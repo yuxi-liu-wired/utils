{
 "cells": [
  {
   "cell_type": "code",
   "execution_count": 1,
   "id": "9fc56a7d-e0ba-44fc-a560-a47d9b079489",
   "metadata": {},
   "outputs": [
    {
     "name": "stdout",
     "output_type": "stream",
     "text": [
      "\n",
      "\n",
      "## Relativity, in general\n",
      "\n",
      "### The Erlangen program\n",
      "\n",
      "In the eyes of a geometer, special relativity is not mysterious, but it is simply another geometry that resembles our familiar Euclidean geometry of the plane, and the spherical geometry of the earth. Just like how Euclid compressed the geometry of the plane into around 20 axioms, we can compress the geometry of spacetime into the following axioms:\n",
      "\n",
      "* Spacetime is a smooth structure, shaped like[^shaped-like] the real vector space $\\R^{n+1}$, where $n$ is the number of spatial dimensions, and $1$ is the number of temporal dimensions.\n",
      "* Spacetime is symmetric under rotation, translation, and constant velocity motion.\n",
      "* There exists a fundamental speed, a \"conversion factor\" between the spatial and temporal dimensions, which we call $c$.\n",
      "* There are many ways to map spacetime into $\\R^{n+1}$, but only some of them are physically meaningful. Those are called the **(inertial) coordinate systems**.\n",
      "* You can go from any one coordinate system to any other by a **coordinate transformation**.\n",
      "* Transformations can be combined one after another, and they can be reversed. That is, they make up a group, named the **symmetry group of spacetime**.\n",
      "* The symmetry group is smooth and connected, meaning that starting with the \"do-nothing\" identity transformation, you can combine it with tiny transformations, and end up at any other transformation.\n",
      "\n",
      "Do not worry if some terms were used without a precise definition. You can start with your best intuitive guess, and sculpt them as we go.\n",
      "\n",
      "[^shaped-like]: In jargon, it is isomorphic as a smooth manifold to $\\R^{n+1}$, or diffeomorphic to $\\R^{n+1}$.\n",
      "\n",
      "We will follow the spirit of Erlangen program, which states clearly what our target is [@kleinComparativeReviewRecent1893]:\n",
      "\n",
      "Considering that Felix Klein first stated it in 1872, decades before special relativity, this is prescient.\n",
      "\n",
      "Applied to special relativity, our target is to start with the axioms, find out something about what kinds of symmetries there can be, and what kinds of objects are unchanged by symmetries. In other words, we will study the geometry of spacetime.\n",
      "\n",
      "### Physics and mathematics\n",
      "\n",
      "Three infinitesimal boosts\n",
      "\n",
      "Four infinitesimal boosts! [@lightmanProblemBookRelativity1975]\n",
      "\n",
      "[Wikipedia!]\n",
      "\n",
      "In the diagram, $v$ is \"rapidity\"[^rapidity-name]. We apply the Lorentz boost with the given $v$ repeatedly forwards and backwards. The resulting image is beautiful and suggestive: it looks like the unit hyperbolas!\n",
      "\n",
      "[^rapidity-name]: The reason for calling it \"rapidity\", instead of \"velocity\" would be soon clear.\n",
      "\n",
      "[^angel-devil-geometry]:\n",
      "\n"
     ]
    }
   ],
   "source": [
    "%load_ext autoreload\n",
    "\n",
    "import my_filters\n",
    "filename = \"test/index_2.qmd\"\n",
    "with open(filename, \"r\", encoding=\"utf8\") as file:\n",
    "    string = file.read()\n",
    "    print(my_filters.qmd_to_txt(string))\n"
   ]
  },
  {
   "cell_type": "code",
   "execution_count": null,
   "id": "52ae7659-1e85-400f-a40c-fce32d56d530",
   "metadata": {},
   "outputs": [],
   "source": []
  }
 ],
 "metadata": {
  "kernelspec": {
   "display_name": "Python 3 (ipykernel)",
   "language": "python",
   "name": "python3"
  },
  "language_info": {
   "codemirror_mode": {
    "name": "ipython",
    "version": 3
   },
   "file_extension": ".py",
   "mimetype": "text/x-python",
   "name": "python",
   "nbconvert_exporter": "python",
   "pygments_lexer": "ipython3",
   "version": "3.10.13"
  }
 },
 "nbformat": 4,
 "nbformat_minor": 5
}
